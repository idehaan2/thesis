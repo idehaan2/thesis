{
 "cells": [
  {
   "cell_type": "markdown",
   "id": "7643d014-13e8-4501-9cae-8b7d0e3bb484",
   "metadata": {},
   "source": [
    "Thesis code Isabella de Haan"
   ]
  },
  {
   "cell_type": "markdown",
   "id": "af23967a-24ca-4ab1-a609-babbed18c1cf",
   "metadata": {},
   "source": [
    "**Import Libraries**"
   ]
  },
  {
   "cell_type": "code",
   "execution_count": null,
   "id": "43ebbec9-fde8-4c3a-a8c0-f2b44b3a7b32",
   "metadata": {},
   "outputs": [],
   "source": [
    "pip install fast_ml"
   ]
  },
  {
   "cell_type": "code",
   "execution_count": null,
   "id": "280dc986-535c-4167-8462-0e065485cc3a",
   "metadata": {},
   "outputs": [],
   "source": [
    "pip install mlxtend"
   ]
  },
  {
   "cell_type": "code",
   "execution_count": null,
   "id": "94f06584-c5dd-4d7b-870d-760b17c3b186",
   "metadata": {},
   "outputs": [],
   "source": [
    "# data manipulation\n",
    "import numpy as np\n",
    "import pandas as pd\n",
    "\n",
    "# data visualization\n",
    "import matplotlib.pyplot as plt\n",
    "import seaborn as sns\n",
    "\n",
    "# data pre-processing\n",
    "from sklearn.preprocessing import LabelEncoder\n",
    "from sklearn.preprocessing import MinMaxScaler\n",
    "\n",
    "# train, test, split and k-fold cross validation\n",
    "from fast_ml.model_development import train_valid_test_split\n",
    "from sklearn.model_selection import KFold\n",
    "from sklearn.model_selection import RepeatedStratifiedKFold\n",
    "from sklearn.model_selection import cross_val_score\n",
    "\n",
    "# classification algorithms\n",
    "from sklearn.ensemble import RandomForestClassifier\n",
    "from sklearn.svm import SVC\n",
    "\n",
    "# hyperparameter tuning\n",
    "from sklearn.model_selection import GridSearchCV\n",
    "\n",
    "# feature selection\n",
    "from mlxtend.feature_selection import SequentialFeatureSelector\n",
    "\n",
    "# evaluation metrics\n",
    "from sklearn.metrics import confusion_matrix, classification_report\n",
    "from sklearn.metrics import ConfusionMatrixDisplay\n",
    "from numpy import mean\n",
    "from numpy import std\n",
    "from sklearn.metrics import accuracy_score\n",
    "from sklearn.metrics import precision_score\n",
    "from sklearn.metrics import recall_score\n",
    "from sklearn.metrics import f1_score\n",
    "\n",
    "# statistical test\n",
    "from statsmodels.stats.contingency_tables import mcnemar"
   ]
  },
  {
   "cell_type": "markdown",
   "id": "69ca869f-a930-46e6-9f66-623089b6669f",
   "metadata": {},
   "source": [
    "**Import Dataset**"
   ]
  },
  {
   "cell_type": "code",
   "execution_count": null,
   "id": "a9dae1f5-b0fd-41fa-9fda-95d892dca79e",
   "metadata": {},
   "outputs": [],
   "source": [
    "# import dataset from csv\n",
    "raw_df = pd.read_csv(\"data_airline_passenger_satisfaction_survey.csv\")"
   ]
  },
  {
   "cell_type": "code",
   "execution_count": null,
   "id": "f9f7c24b-0720-4119-9074-69349cf9a9e4",
   "metadata": {},
   "outputs": [],
   "source": [
    "# check for any duplicated rows in the dataset\n",
    "raw_df.duplicated().sum()"
   ]
  },
  {
   "cell_type": "code",
   "execution_count": null,
   "id": "7986a986-edf4-4b64-8daf-f9fdea4aa114",
   "metadata": {},
   "outputs": [],
   "source": [
    "# check if target variable is balanced\n",
    "raw_df[\"Satisfaction\"].value_counts()"
   ]
  },
  {
   "cell_type": "markdown",
   "id": "79397aba-85f8-4b2e-8317-4639bb32c4eb",
   "metadata": {},
   "source": [
    "**Data pre-processing**"
   ]
  },
  {
   "cell_type": "code",
   "execution_count": null,
   "id": "15c3292d-626c-4a9d-9ae4-47171f9efe9a",
   "metadata": {},
   "outputs": [],
   "source": [
    "# visualize correlations\n",
    "correlation_matrix = raw_df.corr()\n",
    "plt.figure(figsize = (16,16))\n",
    "sns.heatmap(correlation_matrix, annot = True, cmap = 'Blues', fmt = '.2g')\n",
    "plt.savefig('Correlation_Matrix.png')\n",
    "plt.show()"
   ]
  },
  {
   "cell_type": "markdown",
   "id": "2dc4885b-53f5-4bcc-baa8-625d278837c4",
   "metadata": {},
   "source": [
    "**Eliminate Features**"
   ]
  },
  {
   "cell_type": "code",
   "execution_count": null,
   "id": "ddbe056e-b5b5-477c-9d3a-f069c678ee50",
   "metadata": {},
   "outputs": [],
   "source": [
    "# eliminate 'ID', since this feature is not important for classification\n",
    "def_df = raw_df.drop(raw_df.iloc[:,[0]], axis = 1)"
   ]
  },
  {
   "cell_type": "code",
   "execution_count": null,
   "id": "041880bf-edff-45bc-9032-571c6b497bbe",
   "metadata": {},
   "outputs": [],
   "source": [
    "# eliminate 'Arrival Delay' because of high correlation with 'Departure Delay'\n",
    "def_df = def_df.drop(def_df.iloc[:,[7]], axis = 1)"
   ]
  },
  {
   "cell_type": "markdown",
   "id": "4f0fb986-8e95-4037-8ac0-4d8d07376c22",
   "metadata": {},
   "source": [
    "**Label Encoding**"
   ]
  },
  {
   "cell_type": "code",
   "execution_count": null,
   "id": "f42d7b09-f11c-47f5-95b6-70ca7d38d23d",
   "metadata": {},
   "outputs": [],
   "source": [
    "# function to encode categorical features in the dataframe\n",
    "label_encoder = LabelEncoder()\n",
    "\n",
    "def encode_df(df):    \n",
    "    df['Gender'] = label_encoder.fit_transform(df['Gender'])\n",
    "    df['Customer Type'] = label_encoder.fit_transform(df['Customer Type'])\n",
    "    df['Type of Travel'] = label_encoder.fit_transform(df['Type of Travel'])\n",
    "    df['Class'] = label_encoder.fit_transform(df['Class'])\n",
    "    df['Satisfaction'] = label_encoder.fit_transform(df['Satisfaction'])\n",
    "    return df\n",
    "\n",
    "clean_df = encode_df(def_df)"
   ]
  },
  {
   "cell_type": "markdown",
   "id": "1e39be8c-3f76-403c-bde4-77730e543add",
   "metadata": {},
   "source": [
    "**Dataset train, validation, test split**"
   ]
  },
  {
   "cell_type": "code",
   "execution_count": null,
   "id": "9a7b20b3-d993-48ff-96f7-225492da14a2",
   "metadata": {},
   "outputs": [],
   "source": [
    "# create train (60%), validation (val) (20%), and test (20%) set.\n",
    "X_train, y_train, X_val, y_val, X_test, y_test = train_valid_test_split(clean_df, target = 'Satisfaction', train_size = 0.6, valid_size = 0.2, test_size = 0.2)\n",
    "\n",
    "print(X_train.shape), print(y_train.shape)\n",
    "print(X_val.shape), print(y_val.shape)\n",
    "print(X_test.shape), print(y_test.shape)"
   ]
  },
  {
   "cell_type": "markdown",
   "id": "fcfe2578-5883-4ebd-b890-87729b33a55c",
   "metadata": {},
   "source": [
    "***Training***"
   ]
  },
  {
   "cell_type": "code",
   "execution_count": null,
   "id": "1a01284c-ea90-4f93-9783-a4122e41eb9b",
   "metadata": {},
   "outputs": [],
   "source": [
    "# hyperparameter tuning and cross-validation on RF model\n",
    "model_parameters = {'random_forest': {'model': RandomForestClassifier(), 'parameters' : {'n_estimators': [50, 100, 1000, 1500], 'min_samples_split': [2, 5, 10, 12, 15]} }}\n",
    "\n",
    "performance = []\n",
    "\n",
    "for i, z in model_parameters.items():\n",
    "    classifier =  GridSearchCV(z['model'], z['parameters'], cv = 5, return_train_score = False)\n",
    "    classifier.fit(X_train, y_train)\n",
    "    performance.append({'model': i, 'best_score': classifier.best_score_, 'best_params': classifier.best_params_})\n",
    "    \n",
    "performance_df = pd.DataFrame(performance, columns=['model','best_score','best_params'])\n",
    "performance_df"
   ]
  },
  {
   "cell_type": "code",
   "execution_count": null,
   "id": "58aba394-4144-4a17-b74a-291c73c4fd0e",
   "metadata": {},
   "outputs": [],
   "source": [
    "# hyperparameter tuning and cross-validation on SVM model\n",
    "model_parameters = {'svm': {'model': SVC(), 'parameters' : {'C': [0.1, 0.2, 0.3], 'kernel': ['linear', 'rbf']} }}\n",
    "\n",
    "performance = []\n",
    "\n",
    "for i, z in model_parameters.items():\n",
    "    classifier =  GridSearchCV(z['model'], z['parameters'], cv = 5, return_train_score = False)\n",
    "    classifier.fit(X_train, y_train)\n",
    "    performance.append({'model': i, 'best_score': classifier.best_score_, 'best_params': classifier.best_params_})\n",
    "    \n",
    "performance_df = pd.DataFrame(performance, columns=['model','best_score','best_params'])\n",
    "performance_df"
   ]
  },
  {
   "cell_type": "code",
   "execution_count": null,
   "id": "b6c98bc4-6a68-4b51-8b99-035e032fa44b",
   "metadata": {},
   "outputs": [],
   "source": [
    "# wrapper RF backward feature selection\n",
    "RF_backward_feature_selector = SequentialFeatureSelector(RandomForestClassifier(n_estimators = 1500, n_jobs = -1), k_features = (1,21), forward = False, floating = False, verbose = 2, scoring = \"accuracy\", cv = 5).fit(X_train, y_train)\n",
    "print(RF_backward_feature_selector.k_score_)\n",
    "print(RF_backward_feature_selector.k_feature_names_)"
   ]
  },
  {
   "cell_type": "code",
   "execution_count": null,
   "id": "89613180-7ca3-4781-9e96-7080d862ee5a",
   "metadata": {},
   "outputs": [],
   "source": [
    "# make train subset RF wrapper\n",
    "def make_subset_RF(df):    \n",
    "    new_df = df.drop([\"Ease of Online Booking\"], axis = 1)\n",
    "    new_df2 = new_df.drop([\"Departure and Arrival Time Convenience\"], axis = 1)\n",
    "    new_df3 = new_df2.drop([\"Food and Drink\"], axis = 1)\n",
    "    new_df4 = new_df3.drop([\"On-board Service\"], axis = 1)\n",
    "    return new_df4\n",
    "\n",
    "X_train_subset_RF = make_subset_RF(X_train)"
   ]
  },
  {
   "cell_type": "code",
   "execution_count": null,
   "id": "89dd961d-f5a7-4b69-92d5-3a0daae5f2ac",
   "metadata": {},
   "outputs": [],
   "source": [
    "# make validation subset RF wrapper\n",
    "def make_subset_RF(df):    \n",
    "    new_df = df.drop([\"Ease of Online Booking\"], axis = 1)\n",
    "    new_df2 = new_df.drop([\"Departure and Arrival Time Convenience\"], axis = 1)\n",
    "    new_df3 = new_df2.drop([\"Food and Drink\"], axis = 1)\n",
    "    new_df4 = new_df3.drop([\"On-board Service\"], axis = 1)\n",
    "    return new_df4\n",
    "\n",
    "X_val_subset_RF = make_subset_RF(X_val)"
   ]
  },
  {
   "cell_type": "code",
   "execution_count": null,
   "id": "8c388331-bb83-4dc4-a033-d35bad0f7567",
   "metadata": {},
   "outputs": [],
   "source": [
    "# make test subset RF wrapper\n",
    "def make_subset_RF(df):    \n",
    "    new_df = df.drop([\"Ease of Online Booking\"], axis = 1)\n",
    "    new_df2 = new_df.drop([\"Departure and Arrival Time Convenience\"], axis = 1)\n",
    "    new_df3 = new_df2.drop([\"Food and Drink\"], axis = 1)\n",
    "    new_df4 = new_df3.drop([\"On-board Service\"], axis = 1)\n",
    "    return new_df4\n",
    "\n",
    "X_test_subset_RF = make_subset_RF(X_test)"
   ]
  },
  {
   "cell_type": "code",
   "execution_count": null,
   "id": "a174162e-615d-4031-a242-99843bad9971",
   "metadata": {},
   "outputs": [],
   "source": [
    "# wrapper SVM backward feature selection\n",
    "SVM_backward_feature_selector = SequentialFeatureSelector(SVC(C = 100), k_features = (1,21), forward = False, floating = False, verbose = 2, scoring = \"accuracy\", cv = 5).fit(X_train, y_train)\n",
    "print(SVM_backward_feature_selector.k_score_)\n",
    "print(SVM_backward_feature_selector.k_feature_names_)"
   ]
  },
  {
   "cell_type": "code",
   "execution_count": null,
   "id": "88360f28-e078-4d13-8458-756821a4d2ac",
   "metadata": {},
   "outputs": [],
   "source": [
    "# make train subset SVM wrapper:\n",
    "def make_subset_SVM(df):    \n",
    "    new_df = df.drop([\"Age\"], axis = 1)\n",
    "    new_df2 = new_df.drop([\"Class\"], axis = 1)\n",
    "    new_df3 = new_df2.drop([\"Flight Distance\"], axis = 1)\n",
    "    new_df4 = new_df3.drop([\"Departure Delay\"], axis = 1)\n",
    "    new_df5 = new_df4.drop([\"Departure and Arrival Time Convenience\"], axis = 1)\n",
    "    new_df6 = new_df5.drop([\"Food and Drink\"], axis = 1)\n",
    "    return new_df6\n",
    "\n",
    "X_train_subset_SVM = make_subset_SVM(X_train)"
   ]
  },
  {
   "cell_type": "code",
   "execution_count": null,
   "id": "c8751180-e819-46bd-9ea5-e35c6a515fc3",
   "metadata": {},
   "outputs": [],
   "source": [
    "# make validation subset SVM wrapper:\n",
    "def make_subset_SVM(df):    \n",
    "    new_df = df.drop([\"Age\"], axis = 1)\n",
    "    new_df2 = new_df.drop([\"Class\"], axis = 1)\n",
    "    new_df3 = new_df2.drop([\"Flight Distance\"], axis = 1)\n",
    "    new_df4 = new_df3.drop([\"Departure Delay\"], axis = 1)\n",
    "    new_df5 = new_df4.drop([\"Departure and Arrival Time Convenience\"], axis = 1)\n",
    "    new_df6 = new_df5.drop([\"Food and Drink\"], axis = 1)\n",
    "    return new_df6\n",
    "\n",
    "X_val_subset_SVM = make_subset_SVM(X_val)"
   ]
  },
  {
   "cell_type": "code",
   "execution_count": null,
   "id": "693f678c-d389-4245-9370-4edd8c1e925e",
   "metadata": {},
   "outputs": [],
   "source": [
    "# make test subset SVM filter\n",
    "def make_subset_SVM(df):    \n",
    "    new_df = df.drop([\"Age\"], axis = 1)\n",
    "    new_df2 = new_df.drop([\"Class\"], axis = 1)\n",
    "    new_df3 = new_df2.drop([\"Flight Distance\"], axis = 1)\n",
    "    new_df4 = new_df3.drop([\"Departure Delay\"], axis = 1)\n",
    "    new_df5 = new_df4.drop([\"Departure and Arrival Time Convenience\"], axis = 1)\n",
    "    new_df6 = new_df5.drop([\"Food and Drink\"], axis = 1)\n",
    "    return new_df6\n",
    "\n",
    "X_test_subset_SVM = make_subset_SVM(X_test)"
   ]
  },
  {
   "cell_type": "markdown",
   "id": "de83eb2b-481c-4893-9ede-50866978a859",
   "metadata": {},
   "source": [
    "***Validation***"
   ]
  },
  {
   "cell_type": "code",
   "execution_count": null,
   "id": "145d77d0-e42e-4159-b6b4-26628bd9e78c",
   "metadata": {},
   "outputs": [],
   "source": [
    "# RF without feature selection\n",
    "RF_model_1 = RandomForestClassifier(n_estimators = 1500, min_samples_split = 5)\n",
    "RF_model_1.fit(X_train, y_train)\n",
    "RF_model_1_predictions = RF_model_1.predict(X_val)\n",
    "\n",
    "print(\"accuracy score:\", accuracy_score(y_val, RF_model_1_predictions))\n",
    "print(\"precision score:\", precision_score(y_val, RF_model_1_predictions))\n",
    "print(\"recall score:\", recall_score(y_val, RF_model_1_predictions))\n",
    "print(\"f1 score:\", f1_score(y_val, RF_model_1_predictions))"
   ]
  },
  {
   "cell_type": "code",
   "execution_count": null,
   "id": "25ebd6a9-03ce-463e-901a-4dadb412a4ea",
   "metadata": {},
   "outputs": [],
   "source": [
    "# RF with feature selection (filter)\n",
    "RF_model_filter = RandomForestClassifier(n_estimators = 1500, min_samples_split = 5)\n",
    "RF_model_filter.fit(X_train, y_train)\n",
    "RF_model_filter_predictions = RF_model_filter.predict(X_val)\n",
    "\n",
    "print(\"accuracy score:\", accuracy_score(y_val, RF_model_filter_predictions))\n",
    "print(\"precision score:\", precision_score(y_val, RF_model_filter_predictions))\n",
    "print(\"recall score:\", recall_score(y_val, RF_model_filter_predictions))\n",
    "print(\"f1 score:\", f1_score(y_val, RF_model_filter_predictions))"
   ]
  },
  {
   "cell_type": "code",
   "execution_count": null,
   "id": "fec8e5ce-adeb-4e63-bfb1-22302f09d157",
   "metadata": {},
   "outputs": [],
   "source": [
    "# RF with feature selection (wrapper)\n",
    "RF_model_wrapper = RandomForestClassifier(n_estimators = 1500, min_samples_split = 5)\n",
    "RF_model_wrapper.fit(X_train_subset_RF, y_train)\n",
    "RF_model_wrapper_predictions = RF_model_wrapper.predict(X_val_subset_RF)\n",
    "\n",
    "print(\"accuracy score:\", accuracy_score(y_val, RF_model_wrapper_predictions))\n",
    "print(\"precision score:\", precision_score(y_val, RF_model_wrapper_predictions))\n",
    "print(\"recall score:\", recall_score(y_val, RF_model_wrapper_predictions))\n",
    "print(\"f1 score:\", f1_score(y_val, RF_model_wrapper_predictions))"
   ]
  },
  {
   "cell_type": "code",
   "execution_count": null,
   "id": "8ab1532d-e473-47b6-a60f-a39f5381211a",
   "metadata": {},
   "outputs": [],
   "source": [
    "# SVM without feature selection\n",
    "scaler = MinMaxScaler()\n",
    "scaler.fit(X_train)\n",
    "X_train_scaled = scaler.transform(X_train)\n",
    "X_val_scaled = scaler.transform(X_val)\n",
    "SVM_model_filter = SVC(C = 100, kernel ='rbf')\n",
    "SVM_model_filter.fit(X_train_scaled, y_train)\n",
    "SVM_model_filter_predictions = SVM_model_filter.predict(X_val_scaled)\n",
    "\n",
    "print(\"accuracy score:\", accuracy_score(y_val, SVM_model_filter_predictions))\n",
    "print(\"precision score:\", precision_score(y_val, SVM_model_filter_predictions))\n",
    "print(\"recall score:\", recall_score(y_val, SVM_model_filter_predictions))\n",
    "print(\"f1 score:\", f1_score(y_val, SVM_model_filter_predictions))"
   ]
  },
  {
   "cell_type": "code",
   "execution_count": null,
   "id": "cde798ee-9514-44b4-94da-eb9fcaa167d9",
   "metadata": {},
   "outputs": [],
   "source": [
    "# SVM with feature selection (filter)\n",
    "scaler = MinMaxScaler()\n",
    "scaler.fit(X_train)\n",
    "X_train_scaled = scaler.transform(X_train)\n",
    "X_val_scaled = scaler.transform(X_val)\n",
    "SVM_model_filter = SVC(C = 100, kernel ='rbf')\n",
    "SVM_model_filter.fit(X_train_scaled, y_train)\n",
    "SVM_model_filter_predictions = SVM_model_filter.predict(X_val_scaled)\n",
    "\n",
    "print(\"accuracy score:\", accuracy_score(y_val, SVM_model_filter_predictions))\n",
    "print(\"precision score:\", precision_score(y_val, SVM_model_filter_predictions))\n",
    "print(\"recall score:\", recall_score(y_val, SVM_model_filter_predictions))\n",
    "print(\"f1 score:\", f1_score(y_val, SVM_model_filter_predictions))"
   ]
  },
  {
   "cell_type": "code",
   "execution_count": null,
   "id": "f281355e-e14e-46ef-a144-d1e04d62462e",
   "metadata": {},
   "outputs": [],
   "source": [
    "# SVM with feature selection (wrapper)\n",
    "scaler = MinMaxScaler()\n",
    "scaler.fit(X_train_subset_SVM)\n",
    "X_train_scaled = scaler.transform(X_train_subset_SVM)\n",
    "X_val_scaled = scaler.transform(X_val_subset_SVM)\n",
    "SVM_model_wrapper = SVC(C = 100, kernel ='rbf')\n",
    "SVM_model_wrapper.fit(X_train_scaled, y_train)\n",
    "SVM_model_wrapper_predictions = SVM_model_wrapper.predict(X_val_scaled)\n",
    "\n",
    "print(\"accuracy score:\", accuracy_score(y_val, SVM_model_wrapper_predictions))\n",
    "print(\"precision score:\", precision_score(y_val, SVM_model_wrapper_predictions))\n",
    "print(\"recall score:\", recall_score(y_val, SVM_model_wrapper_predictions))\n",
    "print(\"f1 score:\", f1_score(y_val, SVM_model_wrapper_predictions))"
   ]
  },
  {
   "cell_type": "markdown",
   "id": "5df29ec3-082e-47aa-8dce-c2ab4dcfbf98",
   "metadata": {},
   "source": [
    "***Testing***"
   ]
  },
  {
   "cell_type": "code",
   "execution_count": null,
   "id": "fc0095e2-2444-47db-8853-ca029ef6087d",
   "metadata": {},
   "outputs": [],
   "source": [
    "# RF without feature selection\n",
    "RF_model_1 = RandomForestClassifier(n_estimators = 1500, min_samples_split = 5)\n",
    "RF_model_1.fit(X_train, y_train)\n",
    "RF_model_1_predictions = RF_model_1.predict(X_test)\n",
    "\n",
    "print(\"accuracy score:\", accuracy_score(y_test, RF_model_1_predictions))\n",
    "print(\"precision score:\", precision_score(y_test, RF_model_1_predictions))\n",
    "print(\"recall score:\", recall_score(y_test, RF_model_1_predictions))\n",
    "print(\"f1 score:\", f1_score(y_test, RF_model_1_predictions))\n",
    "\n",
    "# confusion matrix\n",
    "Confusion_Matrix_RF_model_1 = confusion_matrix(y_test, RF_model_1_predictions)\n",
    "print(Confusion_Matrix_RF_model_1)"
   ]
  },
  {
   "cell_type": "code",
   "execution_count": null,
   "id": "b4789677-3f1a-44bf-a09c-677564cce6eb",
   "metadata": {},
   "outputs": [],
   "source": [
    "# RF with feature selection (filter)\n",
    "RF_model_filter = RandomForestClassifier(n_estimators = 1500, min_samples_split = 5)\n",
    "RF_model_filter.fit(X_train, y_train)\n",
    "RF_model_filter_predictions = RF_model_filter.predict(X_test)\n",
    "\n",
    "print(\"accuracy score:\", accuracy_score(y_test, RF_model_filter_predictions))\n",
    "print(\"precision score:\", precision_score(y_test, RF_model_filter_predictions))\n",
    "print(\"recall score:\", recall_score(y_test, RF_model_filter_predictions))\n",
    "print(\"f1 score:\", f1_score(y_test, RF_model_filter_predictions))\n",
    "\n",
    "# confusion matrix\n",
    "Confusion_Matrix_RF_model_filter = confusion_matrix(y_test, RF_model_filter_predictions)\n",
    "print(Confusion_Matrix_RF_model_filter)"
   ]
  },
  {
   "cell_type": "code",
   "execution_count": null,
   "id": "5e33e58b-069b-4f79-b7e9-ce77fc4e2919",
   "metadata": {},
   "outputs": [],
   "source": [
    "# RF with feature selection (wrapper)\n",
    "RF_model_wrapper = RandomForestClassifier(n_estimators = 1500, min_samples_split = 5)\n",
    "RF_model_wrapper.fit(X_train_subset_RF, y_train)\n",
    "RF_model_wrapper_predictions = RF_model_wrapper.predict(X_test_subset_RF)\n",
    "\n",
    "print(\"accuracy score:\", accuracy_score(y_test, RF_model_wrapper_predictions))\n",
    "print(\"precision score:\", precision_score(y_test, RF_model_wrapper_predictions))\n",
    "print(\"recall score:\", recall_score(y_test, RF_model_wrapper_predictions))\n",
    "print(\"f1 score:\", f1_score(y_test, RF_model_wrapper_predictions))\n",
    "\n",
    "# confusion matrix\n",
    "Confusion_Matrix_RF_model_wrapper = confusion_matrix(y_test, RF_model_wrapper_predictions)\n",
    "print(Confusion_Matrix_RF_model_wrapper)"
   ]
  },
  {
   "cell_type": "code",
   "execution_count": null,
   "id": "ba40297d-da1d-47e6-ac5f-d45a71e5c182",
   "metadata": {},
   "outputs": [],
   "source": [
    "# SVM without feature selection\n",
    "scaler = MinMaxScaler()\n",
    "scaler.fit(X_train)\n",
    "X_train_scaled = scaler.transform(X_train)\n",
    "X_test_scaled = scaler.transform(X_test)\n",
    "SVM_model_filter = SVC(C = 100, kernel='rbf')\n",
    "SVM_model_filter.fit(X_train_scaled, y_train)\n",
    "SVM_model_filter_predictions = SVM_model_filter.predict(X_test_scaled)\n",
    "\n",
    "print(\"accuracy score:\", accuracy_score(y_test, SVM_model_filter_predictions))\n",
    "print(\"precision score:\", precision_score(y_test, SVM_model_filter_predictions))\n",
    "print(\"recall score:\", recall_score(y_test, SVM_model_filter_predictions))\n",
    "print(\"f1 score:\", f1_score(y_test, SVM_model_filter_predictions))\n",
    "\n",
    "# confusion matrix\n",
    "Confusion_Matrix_SVM_model_filter = confusion_matrix(y_test, SVM_model_filter_predictions)\n",
    "print(Confusion_Matrix_SVM_model_filter)"
   ]
  },
  {
   "cell_type": "code",
   "execution_count": null,
   "id": "f1c1e5ff-ff9b-4bbd-b9a3-294edb2b3000",
   "metadata": {},
   "outputs": [],
   "source": [
    "# SVM with feature selection (filter)\n",
    "scaler = MinMaxScaler()\n",
    "scaler.fit(X_train)\n",
    "X_train_scaled = scaler.transform(X_train)\n",
    "X_test_scaled = scaler.transform(X_test)\n",
    "SVM_model_filter = SVC(C = 100, kernel='rbf')\n",
    "SVM_model_filter.fit(X_train_scaled, y_train)\n",
    "SVM_model_filter_predictions = SVM_model_filter.predict(X_test_scaled)\n",
    "\n",
    "print(\"accuracy score:\", accuracy_score(y_test, SVM_model_filter_predictions))\n",
    "print(\"precision score:\", precision_score(y_test, SVM_model_filter_predictions))\n",
    "print(\"recall score:\", recall_score(y_test, SVM_model_filter_predictions))\n",
    "print(\"f1 score:\", f1_score(y_test, SVM_model_filter_predictions))\n",
    "\n",
    "# confusion matrix\n",
    "Confusion_Matrix_SVM_model_filter = confusion_matrix(y_test, SVM_model_filter_predictions)\n",
    "print(Confusion_Matrix_SVM_model_filter)"
   ]
  },
  {
   "cell_type": "code",
   "execution_count": null,
   "id": "1ae788d9-08bc-431e-b846-fb58fee6d76c",
   "metadata": {},
   "outputs": [],
   "source": [
    "# SVM with feature selection (wrapper)\n",
    "scaler = MinMaxScaler()\n",
    "scaler.fit(X_train_subset_SVM)\n",
    "X_train_scaled = scaler.transform(X_train_subset_SVM)\n",
    "X_test_scaled = scaler.transform(X_test_subset_SVM)\n",
    "SVM_model_wrapper = SVC(C = 100, kernel='rbf')\n",
    "SVM_model_wrapper.fit(X_train_scaled, y_train)\n",
    "SVM_model_wrapper_predictions = SVM_model_wrapper.predict(X_test_scaled)\n",
    "\n",
    "print(\"accuracy score:\", accuracy_score(y_test, SVM_model_wrapper_predictions))\n",
    "print(\"precision score:\", precision_score(y_test, SVM_model_wrapper_predictions))\n",
    "print(\"recall score:\", recall_score(y_test, SVM_model_wrapper_predictions))\n",
    "print(\"f1 score:\", f1_score(y_test, SVM_model_wrapper_predictions))\n",
    "\n",
    "# confusion matrix\n",
    "Confusion_Matrix_SVM_model_wrapper = confusion_matrix(y_test, SVM_model_wrapper_predictions)\n",
    "print(Confusion_Matrix_SVM_model_wrapper)"
   ]
  },
  {
   "cell_type": "markdown",
   "id": "bb4035dd-0f6b-4dd7-b768-fd9dd21fad9a",
   "metadata": {},
   "source": [
    "**Confusion Matrices RF and SVM models**"
   ]
  },
  {
   "cell_type": "code",
   "execution_count": null,
   "id": "35fe2ff8-c30a-4041-911a-4998acb83c59",
   "metadata": {},
   "outputs": [],
   "source": [
    "# RF without feature selection\n",
    "target_names = [\"Dissatisfied\", \"Satisfied\"] \n",
    "Confusion_Matrix_RF_model_1_plot = ConfusionMatrixDisplay(Confusion_Matrix_RF_model_1, display_labels = target_names).plot(cmap = 'Blues')\n",
    "Confusion_Matrix_RF_model_1_plot.ax_.set_title(\"Confusion Matrix RF without feature selection\")\n",
    "plt.xlabel(\"Predicted label\")\n",
    "plt.ylabel(\"True label\")\n",
    "plt.savefig('Confusion_Matrix_RF_model_1_plot.png')\n",
    "plt.show()"
   ]
  },
  {
   "cell_type": "code",
   "execution_count": null,
   "id": "0afecf64-bab9-461a-9669-dc79df3277d7",
   "metadata": {},
   "outputs": [],
   "source": [
    "# RF with feature selection (filter)\n",
    "target_names = [\"Dissatisfied\", \"Satisfied\"] \n",
    "Confusion_Matrix_RF_filter = ConfusionMatrixDisplay(Confusion_Matrix_RF_model_filter, display_labels = target_names).plot(cmap = 'Blues')\n",
    "Confusion_Matrix_RF_filter.ax_.set_title(\"Confusion Matrix RF filter\")\n",
    "plt.xlabel(\"Predicted label\")\n",
    "plt.ylabel(\"True label\")\n",
    "plt.savefig('Confusion_Matrix_RF_filter.png')\n",
    "plt.show()"
   ]
  },
  {
   "cell_type": "code",
   "execution_count": null,
   "id": "049ae048-f349-43ef-b6b4-3070a300cd6b",
   "metadata": {},
   "outputs": [],
   "source": [
    "# RF with feature selection (wrapper)\n",
    "target_names = [\"Dissatisfied\", \"Satisfied\"] \n",
    "Confusion_Matrix_RF_wrapper = ConfusionMatrixDisplay(Confusion_Matrix_RF_model_wrapper, display_labels = target_names).plot(cmap = 'Blues')\n",
    "Confusion_Matrix_RF_wrapper.ax_.set_title(\"Confusion Matrix RF wrapper\")\n",
    "plt.xlabel(\"Predicted label\")\n",
    "plt.ylabel(\"True label\")\n",
    "plt.savefig('Confusion_Matrix_RF_wrapper.png')\n",
    "plt.show()"
   ]
  },
  {
   "cell_type": "code",
   "execution_count": null,
   "id": "7c9923b3-79f7-4025-9a08-a6a6794b8929",
   "metadata": {},
   "outputs": [],
   "source": [
    "# SVM without feature selection\n",
    "target_names = [\"Dissatisfied\", \"Satisfied\"] \n",
    "Confusion_Matrix_SVM_model_1_plot = ConfusionMatrixDisplay(Confusion_Matrix_SVM_model_1, display_labels = target_names).plot(cmap = 'Blues')\n",
    "Confusion_Matrix_SVM_model_1_plot.ax_.set_title(\"Confusion Matrix SVM without feature selection\")\n",
    "plt.xlabel(\"Predicted label\")\n",
    "plt.ylabel(\"True label\")\n",
    "plt.savefig('Confusion_Matrix_SVM_model_1_plot.png')\n",
    "plt.show()"
   ]
  },
  {
   "cell_type": "code",
   "execution_count": null,
   "id": "3c4e6c27-3da1-4d09-9d86-dc48bae9f9a6",
   "metadata": {},
   "outputs": [],
   "source": [
    "# SVM with feature selection (filter)\n",
    "target_names = [\"Dissatisfied\", \"Satisfied\"] \n",
    "Confusion_Matrix_SVM_filter = ConfusionMatrixDisplay(Confusion_Matrix_SVM_model_filter, display_labels = target_names).plot(cmap = 'Blues')\n",
    "Confusion_Matrix_SVM_filter.ax_.set_title(\"Confusion Matrix SVM filter\")\n",
    "plt.xlabel(\"Predicted label\")\n",
    "plt.ylabel(\"True label\")\n",
    "plt.savefig('Confusion_Matrix_SVM_filter.png')\n",
    "plt.show()"
   ]
  },
  {
   "cell_type": "code",
   "execution_count": null,
   "id": "7dbd3da6-35e3-44d8-b58f-50e35beb0b82",
   "metadata": {},
   "outputs": [],
   "source": [
    "# SVM with feature selection (wrapper)\n",
    "target_names = [\"Dissatisfied\", \"Satisfied\"] \n",
    "Confusion_Matrix_SVM_wrapper = ConfusionMatrixDisplay(Confusion_Matrix_SVM_model_wrapper, display_labels = target_names).plot(cmap = 'Blues')\n",
    "Confusion_Matrix_SVM_wrapper.ax_.set_title(\"Confusion Matrix SVM wrapper\")\n",
    "plt.xlabel(\"Predicted label\")\n",
    "plt.ylabel(\"True label\")\n",
    "plt.savefig('Confusion_Matrix_SVM_wrapper.png')\n",
    "plt.show()"
   ]
  },
  {
   "cell_type": "markdown",
   "id": "57c8e2d1-eb34-4f8c-8779-45baafaf9ce3",
   "metadata": {},
   "source": [
    "**McNemar significance test**"
   ]
  },
  {
   "cell_type": "code",
   "execution_count": null,
   "id": "8c120d89-99da-49ca-8b99-8474cda421e8",
   "metadata": {},
   "outputs": [],
   "source": [
    "# statistical test RF compared to RF filter\n",
    "data_RF_filter = [[50029, 25941],\n",
    "       [26011, 1923]]\n",
    "\n",
    "print(mcnemar(data_RF_filter, exact = False, correction = False))"
   ]
  },
  {
   "cell_type": "code",
   "execution_count": null,
   "id": "7f9e652a-f9b6-4de1-99c8-80019bbb537f",
   "metadata": {},
   "outputs": [],
   "source": [
    "# statistical test RF compared to RF wrapper\n",
    "data_RF_wrapper = [[50112, 26024],\n",
    "       [25928, 1840]]\n",
    "\n",
    "print(mcnemar(data_RF_wrapper, exact = False, correction = False))"
   ]
  },
  {
   "cell_type": "code",
   "execution_count": null,
   "id": "63ca1f60-9413-4aee-8e23-6322466ed17d",
   "metadata": {},
   "outputs": [],
   "source": [
    "# statistical test SVM compared to SVM filter\n",
    "data_SVM_filter = [[49560, 26124],\n",
    "       [25828, 2392]]\n",
    "\n",
    "print(mcnemar(data_SVM_filter, exact = False, correction = False))"
   ]
  },
  {
   "cell_type": "code",
   "execution_count": null,
   "id": "199cca6e-6d3e-463f-99e7-1eac7039dc43",
   "metadata": {},
   "outputs": [],
   "source": [
    "# statistical test SVM compared to SVM wrapper\n",
    "data_SVM_wrapper = [[49558, 26122],\n",
    "       [25830, 2394]]\n",
    "\n",
    "print(mcnemar(data_SVM_wrapper, exact = False, correction = False))"
   ]
  }
 ],
 "metadata": {
  "kernelspec": {
   "display_name": "Python 3",
   "language": "python",
   "name": "python3"
  },
  "language_info": {
   "codemirror_mode": {
    "name": "ipython",
    "version": 3
   },
   "file_extension": ".py",
   "mimetype": "text/x-python",
   "name": "python",
   "nbconvert_exporter": "python",
   "pygments_lexer": "ipython3",
   "version": "3.8.8"
  }
 },
 "nbformat": 4,
 "nbformat_minor": 5
}
